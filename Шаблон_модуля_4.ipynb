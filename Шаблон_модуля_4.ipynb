{
  "cells": [
    {
      "cell_type": "markdown",
      "metadata": {
        "id": "view-in-github",
        "colab_type": "text"
      },
      "source": [
        "<a href=\"https://colab.research.google.com/github/Abrazacs/statistics_lab/blob/main/%D0%A8%D0%B0%D0%B1%D0%BB%D0%BE%D0%BD_%D0%BC%D0%BE%D0%B4%D1%83%D0%BB%D1%8F_4.ipynb\" target=\"_parent\"><img src=\"https://colab.research.google.com/assets/colab-badge.svg\" alt=\"Open In Colab\"/></a>"
      ]
    },
    {
      "cell_type": "code",
      "source": [
        "import scipy.stats as stats\n",
        "import numpy as np"
      ],
      "metadata": {
        "id": "ZIH_Ffrmtfrb"
      },
      "id": "ZIH_Ffrmtfrb",
      "execution_count": 1,
      "outputs": []
    },
    {
      "cell_type": "markdown",
      "id": "e5c0f0e1-1ce1-4d98-b7fe-a7ab438f1260",
      "metadata": {
        "id": "e5c0f0e1-1ce1-4d98-b7fe-a7ab438f1260"
      },
      "source": [
        "Задание 1 (на сопоставление)"
      ]
    },
    {
      "cell_type": "code",
      "execution_count": 2,
      "id": "237f3145-8a79-4809-8e28-ac3b84dc5653",
      "metadata": {
        "colab": {
          "base_uri": "https://localhost:8080/"
        },
        "id": "237f3145-8a79-4809-8e28-ac3b84dc5653",
        "outputId": "dccc046b-c9b6-4422-870e-b610468f1a25"
      },
      "outputs": [
        {
          "output_type": "stream",
          "name": "stdout",
          "text": [
            "5-A, 2-B, 4-C,D,G, 1-E, 3-F\n"
          ]
        }
      ],
      "source": [
        "print('5-A, 2-B, 4-C,D,G, 1-E, 3-F')"
      ]
    },
    {
      "cell_type": "markdown",
      "id": "e8eecee9-8ad7-4f85-9dfa-a58fa415b076",
      "metadata": {
        "id": "e8eecee9-8ad7-4f85-9dfa-a58fa415b076"
      },
      "source": [
        "Задание 2 (про порошок)"
      ]
    },
    {
      "cell_type": "code",
      "execution_count": 3,
      "id": "6104ff71-0cfc-4d8b-9b7e-c1e3641b3c87",
      "metadata": {
        "colab": {
          "base_uri": "https://localhost:8080/"
        },
        "id": "6104ff71-0cfc-4d8b-9b7e-c1e3641b3c87",
        "outputId": "b3a69486-b29a-4499-c6ee-861c92e87b7a"
      },
      "outputs": [
        {
          "output_type": "stream",
          "name": "stdout",
          "text": [
            "z-оценка : 2.3570226039551083\n",
            "Критическая z-оценка : 1.6448536269514722\n",
            "Отклонить нулевую гипотезу\n",
            "p-value : 0.009211062727050745\n",
            "Отклонить нулевую гипотезу\n"
          ]
        }
      ],
      "source": [
        "sample_mean = 3.005\n",
        "sample_size = 50\n",
        "_mean = 3\n",
        "_std = 0.015\n",
        "alpha = 0.05\n",
        "\n",
        "z_score = (sample_mean-_mean)/(_std/np.sqrt(50))\n",
        "print('z-оценка :',z_score)\n",
        "\n",
        "z_critical = stats.norm.ppf(1-alpha)\n",
        "print('Критическая z-оценка :', z_critical)\n",
        "if z_score > z_critical:\n",
        "    print(\"Отклонить нулевую гипотезу\")\n",
        "else:\n",
        "    print(\"Нельзя отклонить нулевую гипотезу\")\n",
        "\n",
        "p_value = 1-stats.norm.cdf(z_score)\n",
        "print('p-value :', p_value)\n",
        "if p_value < alpha:\n",
        "    print(\"Отклонить нулевую гипотезу\")\n",
        "else:\n",
        "    print(\"Нельзя отклонить нулевую гипотезу\")"
      ]
    },
    {
      "cell_type": "markdown",
      "id": "17ad34a0-cbb3-482a-99d4-253f0b70f05f",
      "metadata": {
        "id": "17ad34a0-cbb3-482a-99d4-253f0b70f05f"
      },
      "source": [
        "Задание 3 (про двигатели)"
      ]
    },
    {
      "cell_type": "code",
      "execution_count": 4,
      "id": "81d6e912-5bf8-4b72-b33f-097e6037d7d4",
      "metadata": {
        "id": "81d6e912-5bf8-4b72-b33f-097e6037d7d4",
        "colab": {
          "base_uri": "https://localhost:8080/"
        },
        "outputId": "38c1abdc-52f6-4ffe-a00d-9056864f371b"
      },
      "outputs": [
        {
          "output_type": "stream",
          "name": "stdout",
          "text": [
            "Z-Score: 2.186521551237011\n",
            "Critical Z-Score: 1.959963984540054\n",
            "Отклонить нулевую гипотезу\n",
            "P-Value : 0.028777469732290895\n",
            "Отклонить нулевую гипотезу\n"
          ]
        }
      ],
      "source": [
        "n1 = 15\n",
        "x1 = 90\n",
        "s1 = 2.3\n",
        "\n",
        "n2 = 10\n",
        "x2 = 88\n",
        "s2 = 2.2\n",
        "\n",
        "# Нулевая гипотеза: = mu_1-mu_2 = 0 (Заключается в том, что существенной разницы нет)\n",
        "D = 0\n",
        "\n",
        "alpha = 0.05\n",
        "\n",
        "z_score = ((x1 - x2) - D) / np.sqrt((s1**2 / n1) + (s2**2 / n2))\n",
        "print('Z-Score:', np.abs(z_score))\n",
        "\n",
        "z_critical = stats.norm.ppf(1 - alpha/2)\n",
        "print('Critical Z-Score:',z_critical)\n",
        "if np.abs(z_score) > z_critical:\n",
        "    print(\"Отклонить нулевую гипотезу\")\n",
        "else:\n",
        "    print(\"Нельзя отклонить нулевую гипотезу\")\n",
        "\n",
        "p_value = 2 * (1 - stats.norm.cdf(np.abs(z_score)))\n",
        "print('P-Value :',p_value)\n",
        "if p_value < alpha:\n",
        "    print(\"Отклонить нулевую гипотезу\")\n",
        "else:\n",
        "    print(\"Нельзя отклонить нулевую гипотезу\")"
      ]
    },
    {
      "cell_type": "markdown",
      "id": "ad515879-cb2d-43eb-93ee-d3f6bb4b49d4",
      "metadata": {
        "id": "ad515879-cb2d-43eb-93ee-d3f6bb4b49d4"
      },
      "source": [
        "Задание 4 (про токи)"
      ]
    },
    {
      "cell_type": "code",
      "execution_count": 5,
      "id": "f0720b4c-0ce0-43e6-be7a-bdb9d593eefd",
      "metadata": {
        "id": "f0720b4c-0ce0-43e6-be7a-bdb9d593eefd",
        "colab": {
          "base_uri": "https://localhost:8080/"
        },
        "outputId": "2eb15a06-f2c1-41e5-abf9-fd9b1959df6f"
      },
      "outputs": [
        {
          "output_type": "stream",
          "name": "stdout",
          "text": [
            "F-score: 0.7486687748648367\n",
            "Critical F-Score: 2.896222761287703\n",
            "Нельзя отклонить нулевую гипотезу. Нет необходимости заменять\n",
            "P-Value : 0.6626865287635708\n",
            "Нельзя отклонить нулевую гипотезу. Нет необходимости заменять\n"
          ]
        }
      ],
      "source": [
        "x1 = np.array([80.1, 82.3, 84.1, 82.6, 85.3, 81.3, 83.2, 81.7, 82.2, 81.4])\n",
        "x2 = np.array([80.7, 81.3, 84.6, 81.7, 86.3, 84.3, 83.7, 84.7, 82.8, 84.4, 85.2, 84.9])\n",
        "alpha = 0.05\n",
        "n1 = len(x1)\n",
        "n2 = len(x2)\n",
        "S1 = x1.var()*n1/(n1-1)\n",
        "S2 = x2.var()*n2/(n2-1)\n",
        "F_score = S1/S2\n",
        "print('F-score:', np.abs(F_score))\n",
        "\n",
        "# Принятие решения на основе критического значения F\n",
        "F_critical = stats.f.ppf(1 - alpha, dfn = n1-1, dfd = n2-1)\n",
        "print('Critical F-Score:', F_critical)\n",
        "if np.abs(F_score) > F_critical:\n",
        "    print(\"Отклонить нулевую гипотезу. Следует заменить\")\n",
        "else:\n",
        "    print(\"Нельзя отклонить нулевую гипотезу. Нет необходимости заменять\")\n",
        "\n",
        "# Принятие решения на основе p-значения\n",
        "p_value = 1 - stats.f.cdf(np.abs(F_score), dfn = n1-1, dfd = n2-1)\n",
        "print('P-Value :', p_value)\n",
        "if p_value < alpha:\n",
        "    print(\"Отклонить нулевую гипотезу. Следует заменить\")\n",
        "else:\n",
        "    print(\"Нельзя отклонить нулевую гипотезу. Нет необходимости заменять\")"
      ]
    },
    {
      "cell_type": "markdown",
      "id": "46f3a4d3-149d-45c3-bdae-df806e07bae1",
      "metadata": {
        "id": "46f3a4d3-149d-45c3-bdae-df806e07bae1"
      },
      "source": [
        "Задание 5 (про глюкозу)"
      ]
    },
    {
      "cell_type": "code",
      "execution_count": 6,
      "id": "14596427-0d20-4ffe-8c38-e941fe204a9d",
      "metadata": {
        "id": "14596427-0d20-4ffe-8c38-e941fe204a9d",
        "colab": {
          "base_uri": "https://localhost:8080/"
        },
        "outputId": "24a494d5-5ddd-4efe-f190-d26726b508c1"
      },
      "outputs": [
        {
          "output_type": "stream",
          "name": "stdout",
          "text": [
            "Critical t-Score: 2.2621571628540993\n",
            "Отклонить нулевую гипотезу. Есть эффект\n",
            "P-Value : 0.0002894940396753496\n",
            "Отклонить нулевую гипотезу. Есть эффект\n"
          ]
        }
      ],
      "source": [
        "x1 = [9.6, 8.1, 8.8, 7.9, 9.2, 8.0, 8.4, 10.1, 7.8, 8.1]\n",
        "x2 = [7.7, 6.2, 7.4, 7.5, 8.3, 6.2, 8.1, 8.9, 7.4, 7.0]\n",
        "alpha = 0.05\n",
        "n = len(x1)\n",
        "t_score, p_value = stats.ttest_rel(x1, x2)\n",
        "\n",
        "# Принятие решения на основе критического значения t\n",
        "t_critical = stats.t.ppf(1 - alpha/2, df = n-1)\n",
        "print('Critical t-Score:',t_critical)\n",
        "if np.abs(t_score) > t_critical:\n",
        "    print(\"Отклонить нулевую гипотезу. Есть эффект\")\n",
        "else:\n",
        "    print(\"Нельзя отклонить нулевую гипотезу. Нет эффекта\")\n",
        "\n",
        "# Принятие решения на основе p-значения\n",
        "print('P-Value :',p_value)\n",
        "if p_value < alpha:\n",
        "    print(\"Отклонить нулевую гипотезу. Есть эффект\")\n",
        "else:\n",
        "    print(\"Нельзя отклонить нулевую гипотезу. Нет эффекта\")"
      ]
    },
    {
      "cell_type": "markdown",
      "id": "31d98391-527f-40ec-9212-5765fcec7794",
      "metadata": {
        "id": "31d98391-527f-40ec-9212-5765fcec7794"
      },
      "source": [
        "Задание 6 (про тросы)"
      ]
    },
    {
      "cell_type": "code",
      "execution_count": 7,
      "id": "0e3867b6-8f7a-499b-9c16-2708357091f1",
      "metadata": {
        "id": "0e3867b6-8f7a-499b-9c16-2708357091f1",
        "colab": {
          "base_uri": "https://localhost:8080/"
        },
        "outputId": "437a44fc-df8c-4b1e-da0e-09df33724928"
      },
      "outputs": [
        {
          "output_type": "stream",
          "name": "stdout",
          "text": [
            "T-Score: 3.120397708249153\n",
            "Отклонить нулевую гипотезу. Изготовитель должен заменить старый кабель новым.\n",
            "P-Value : 0.0037950235841139484\n",
            "Отклонить нулевую гипотезу. Изготовитель должен заменить старый кабель новым.\n"
          ]
        }
      ],
      "source": [
        "new_cable = np.array([92.7, 91.6, 94.7, 93.7, 96.5, 94.3, 93.7, 96.8, 98.9, 99.9])\n",
        "old_cable = np.array([90.1, 92.2, 94.3, 92.1, 93.4, 91.1, 93.2, 91.5])\n",
        "\n",
        "# Средние значения, дисперсии и размеры выборок\n",
        "mean_new = np.mean(new_cable)\n",
        "mean_old = np.mean(old_cable)\n",
        "var_new = np.var(new_cable, ddof=1)\n",
        "var_old = np.var(old_cable, ddof=1)\n",
        "n_new = len(new_cable)\n",
        "n_old = len(old_cable)\n",
        "\n",
        "t_score, p_value = stats.ttest_ind(new_cable, old_cable, equal_var=False, alternative='greater')\n",
        "\n",
        "# Степени свободы (df)\n",
        "numerator = (var_new / n_new + var_old / n_old) ** 2\n",
        "denominator = ((var_new / n_new) ** 2) / (n_new - 1) + ((var_old / n_old) ** 2) / (n_old - 1)\n",
        "df = numerator / denominator\n",
        "\n",
        "# Критическое значение t для одностороннего теста на уровне значимости 0.01\n",
        "alpha = 0.01\n",
        "t_crit = stats.t.ppf(1 - alpha, df)\n",
        "\n",
        "print('T-Score:', np.abs(t_score))\n",
        "if(np.abs(t_score)>t_crit):\n",
        "  print(\"Отклонить нулевую гипотезу. Изготовитель должен заменить старый кабель новым.\")\n",
        "else:\n",
        "   print(\"Нельзя отклонить нулевую гипотезу.\")\n",
        "\n",
        "print('P-Value :',p_value)\n",
        "if p_value < alpha:\n",
        "    print(\"Отклонить нулевую гипотезу. Изготовитель должен заменить старый кабель новым.\")\n",
        "else:\n",
        "    print(\"Нельзя отклонить нулевую гипотезу.\")"
      ]
    },
    {
      "cell_type": "markdown",
      "id": "c94b6ae2-c1fd-46b1-9dff-6c067dae6ac9",
      "metadata": {
        "id": "c94b6ae2-c1fd-46b1-9dff-6c067dae6ac9"
      },
      "source": [
        "Задание 7 (про абитуриентов)"
      ]
    },
    {
      "cell_type": "code",
      "execution_count": 8,
      "id": "5226283c-a4f1-44f6-a80d-90a16b8f9796",
      "metadata": {
        "id": "5226283c-a4f1-44f6-a80d-90a16b8f9796",
        "colab": {
          "base_uri": "https://localhost:8080/"
        },
        "outputId": "36588573-89a2-440d-ed4b-fd6a00191366"
      },
      "outputs": [
        {
          "output_type": "stream",
          "name": "stdout",
          "text": [
            "T-Score: -2.7386127875258306\n",
            "Отклонить нулевую гипотезу. Курсы влияют на успеваемость\n",
            "P-Value : 0.022899494551768276\n",
            "Нельзя отклонить нулевую гипотезу. Нет эффекта\n"
          ]
        }
      ],
      "source": [
        "before = np.array([7, 6, 5, 4, 6, 2, 10, 3, 8, 5])\n",
        "after = np.array([9, 6, 4, 5, 7, 4, 10, 6, 9, 6])\n",
        "n = len(before)\n",
        "# t-статистика и p-value\n",
        "t_score, p_value = stats.ttest_rel(before, after)\n",
        "\n",
        "# Критическое значение t при уровне значимости 0.01 и df = n-1\n",
        "alpha = 0.01\n",
        "df = n - 1\n",
        "t_crit = stats.t.ppf(1 - alpha / 2, df)  # двухсторонний тест\n",
        "\n",
        "# Принятие решения на основе критического значения t\n",
        "print('T-Score:', t_score)\n",
        "if np.abs(t_score) > t_critical:\n",
        "    print(\"Отклонить нулевую гипотезу. Курсы влияют на успеваемость\")\n",
        "else:\n",
        "    print(\"Нельзя отклонить нулевую гипотезу. Нет эффекта\")\n",
        "\n",
        "# Принятие решения на основе p-значения\n",
        "print('P-Value :',p_value)\n",
        "if p_value < alpha:\n",
        "    print(\"Отклонить нулевую гипотезу. Курсы влияют на успеваемость\")\n",
        "else:\n",
        "    print(\"Нельзя отклонить нулевую гипотезу. Нет эффекта\")\n"
      ]
    },
    {
      "cell_type": "markdown",
      "id": "3457d32d-5ce3-4093-bf60-18cdc0d23a79",
      "metadata": {
        "id": "3457d32d-5ce3-4093-bf60-18cdc0d23a79"
      },
      "source": [
        "Задание 8 (про фрукты и IQ)"
      ]
    },
    {
      "cell_type": "code",
      "execution_count": 9,
      "id": "a2fa0ca3-f86e-4ce4-9051-3d07abdceeb6",
      "metadata": {
        "id": "a2fa0ca3-f86e-4ce4-9051-3d07abdceeb6",
        "colab": {
          "base_uri": "https://localhost:8080/"
        },
        "outputId": "4898b405-f6c1-4d38-8f4f-a386541f2c93"
      },
      "outputs": [
        {
          "output_type": "stream",
          "name": "stdout",
          "text": [
            "F-score: 1.0\n",
            "Critical F-Score: 3.178893104458269\n",
            "Нельзя отклонить нулевую гипотезу. Дисперсии двух групп равны\n",
            "P-Value : 0.5000000000000001\n",
            "Нельзя отклонить нулевую гипотезу. Дисперсии двух групп равны\n"
          ]
        }
      ],
      "source": [
        "oranges = np.array([125, 138, 112, 130, 124, 125, 110, 112, 117, 126])\n",
        "pears = np.array([124, 102, 142, 130, 131, 124, 127, 115, 108, 109])\n",
        "alpha = 0.05\n",
        "n1 = len(oranges)\n",
        "n2 = len(oranges)\n",
        "S1 = oranges.var()*n1/(n1-1)\n",
        "S2 = oranges.var()*n2/(n2-1)\n",
        "F_score = S1/S2\n",
        "print('F-score:', np.abs(F_score))\n",
        "\n",
        "# Принятие решения на основе критического значения F\n",
        "F_critical = stats.f.ppf(1 - alpha, dfn = n1-1, dfd = n2-1)\n",
        "print('Critical F-Score:', F_critical)\n",
        "if np.abs(F_score) > F_critical:\n",
        "    print(\"Отклонить нулевую гипотезу. Дисперсии двух групп отличаются\")\n",
        "else:\n",
        "    print(\"Нельзя отклонить нулевую гипотезу. Дисперсии двух групп равны\")\n",
        "\n",
        "# Принятие решения на основе p-значения\n",
        "p_value = 1 - stats.f.cdf(np.abs(F_score), dfn = n1-1, dfd = n2-1)\n",
        "print('P-Value :', p_value)\n",
        "if p_value < alpha:\n",
        "     print(\"Отклонить нулевую гипотезу. Дисперсии двух групп отличаются\")\n",
        "else:\n",
        "    print(\"Нельзя отклонить нулевую гипотезу. Дисперсии двух групп равны\")"
      ]
    },
    {
      "cell_type": "markdown",
      "id": "7f6c4b09-ad80-4c83-82fb-472272cef69d",
      "metadata": {
        "id": "7f6c4b09-ad80-4c83-82fb-472272cef69d"
      },
      "source": [
        "Задание 9 (про самолеты)"
      ]
    },
    {
      "cell_type": "code",
      "execution_count": 10,
      "id": "d6f044c5-bd38-45a4-a7b8-574bc448650d",
      "metadata": {
        "id": "d6f044c5-bd38-45a4-a7b8-574bc448650d",
        "colab": {
          "base_uri": "https://localhost:8080/"
        },
        "outputId": "f6f27918-3b33-45e4-c2f0-f8beb6bd67d3"
      },
      "outputs": [
        {
          "output_type": "stream",
          "name": "stdout",
          "text": [
            "Chi-Square Statistic: 3.5409807280778347\n",
            "Нельзя отклонить нулевую гипотезу. Распределение является геометрическим\n",
            "P-Value : 0.8308659812348956\n",
            "Нельзя отклонить нулевую гипотезу. Распределение является геометрическим\n"
          ]
        }
      ],
      "source": [
        "# В данном случае подходящим распределением может быть геометрическое, поскольку задача связана с количеством попыток до успеха.\n",
        "\n",
        "observed_counts = np.array([36, 23, 11, 13, 8, 3, 2, 1, 3])\n",
        "total_observations = observed_counts.sum()\n",
        "alpha = 0.05\n",
        "# Эмпирическая оценка параметра p\n",
        "mean_attempts = sum((i + 1) * observed_counts[i] for i in range(len(observed_counts))) / total_observations\n",
        "p_hat = 1 / mean_attempts\n",
        "\n",
        "# Теоретические вероятности для геометрического распределения\n",
        "k_values = np.arange(1, len(observed_counts) + 1)\n",
        "theoretical_probs = (1 - p_hat) ** (k_values - 1) * p_hat\n",
        "\n",
        "# Пропорции для учета оставшихся данных (суммирование для \"хвоста\")\n",
        "theoretical_probs[-1] += 1 - theoretical_probs.sum()\n",
        "\n",
        "# Теоретические частоты\n",
        "expected_counts = theoretical_probs * total_observations\n",
        "\n",
        "# Вычисление статистики хи-квадрат\n",
        "chi2_stat = np.sum((observed_counts - expected_counts) ** 2 / expected_counts)\n",
        "\n",
        "# Степени свободы\n",
        "degrees_of_freedom = len(observed_counts) - 2\n",
        "\n",
        "# Критическое значение и p-value\n",
        "critical_value = stats.chi2.ppf(0.95, degrees_of_freedom)\n",
        "p_value = 1 - stats.chi2.cdf(chi2_stat, degrees_of_freedom)\n",
        "\n",
        "print('Chi-Square Statistic:', chi2_stat)\n",
        "if chi2_stat > critical_value:\n",
        "    print(\"Отклонить нулевую гипотезу. Распределение не является геометрическим\")\n",
        "else:\n",
        "    print(\"Нельзя отклонить нулевую гипотезу. Распределение является геометрическим\")\n",
        "\n",
        "print('P-Value :',p_value)\n",
        "if p_value < alpha:\n",
        "    print(\"Отклонить нулевую гипотезу. Распределение не является геометрическим\")\n",
        "else:\n",
        "    print(\"Нельзя отклонить нулевую гипотезу. Распределение является геометрическим\")"
      ]
    },
    {
      "cell_type": "markdown",
      "id": "683c7734-8ec4-47f3-a4f9-97a18d46ad53",
      "metadata": {
        "id": "683c7734-8ec4-47f3-a4f9-97a18d46ad53"
      },
      "source": [
        "Задание 10 (про цвет глаз и волос)"
      ]
    },
    {
      "cell_type": "code",
      "execution_count": 11,
      "id": "9b332ef6-d1f6-4f3a-8a67-59a2f50f149d",
      "metadata": {
        "id": "9b332ef6-d1f6-4f3a-8a67-59a2f50f149d",
        "colab": {
          "base_uri": "https://localhost:8080/"
        },
        "outputId": "c63225a5-9717-4b76-e03a-158e17d7cf49"
      },
      "outputs": [
        {
          "output_type": "stream",
          "name": "stdout",
          "text": [
            "Chi-Square Statistic: 0.09615384615384615\n",
            "Нельзя отклонить нулевую гипотезу. Связи нет\n",
            "P-Value: 0.9988806869095861\n",
            "Нельзя отклонить нулевую гипотезу. Связи нет\n"
          ]
        }
      ],
      "source": [
        "data = np.array([\n",
        "    [35, 52, 13],\n",
        "    [28, 42, 10],\n",
        "    [7, 10, 3]\n",
        "])\n",
        "\n",
        "# Критерий хи-квадрат\n",
        "chi2_stat, p_value, dof, expected = stats.chi2_contingency(data)\n",
        "\n",
        "alpha = 0.05\n",
        "# Критическое значение\n",
        "critical_value = stats.chi2.ppf(1 - alpha, dof)\n",
        "\n",
        "print('Chi-Square Statistic:', chi2_stat)\n",
        "if(chi2_stat>critical_value):\n",
        "  print(\"Отклонить нулевую гипотезу. Связь есть\")\n",
        "else:\n",
        "   print(\"Нельзя отклонить нулевую гипотезу. Связи нет\")\n",
        "\n",
        "print('P-Value:', p_value)\n",
        "if p_value < alpha:\n",
        "    print(\"Отклонить нулевую гипотезу. Связь есть\")\n",
        "else:\n",
        "    print(\"Нельзя отклонить нулевую гипотезу. Связи нет\")"
      ]
    },
    {
      "cell_type": "markdown",
      "id": "181ab8f2-c071-4803-ad2e-3f10813f0c6a",
      "metadata": {
        "id": "181ab8f2-c071-4803-ad2e-3f10813f0c6a"
      },
      "source": [
        "Задание 11 (про тигров)"
      ]
    },
    {
      "cell_type": "code",
      "execution_count": 12,
      "id": "da071797-ff7a-4b0c-8553-0df933687fe4",
      "metadata": {
        "id": "da071797-ff7a-4b0c-8553-0df933687fe4",
        "colab": {
          "base_uri": "https://localhost:8080/"
        },
        "outputId": "755f77c9-386b-4de4-d8cf-114009ac3362"
      },
      "outputs": [
        {
          "output_type": "stream",
          "name": "stdout",
          "text": [
            "Нельзя отклонить нулевую гипотезу. Средние массы хотя бы в одной группе различаются.\n",
            "21.927813243053045 2.5927802386467297e-09  Multiple Comparison of Means - Tukey HSD, FWER=0.05  \n",
            "======================================================\n",
            "group1 group2 meandiff p-adj   lower    upper   reject\n",
            "------------------------------------------------------\n",
            "   No1    No2    -21.5    0.0  -32.019  -10.981   True\n",
            "   No1    No3   5.8571  0.458  -4.6619  16.3762  False\n",
            "   No1    No4 -16.8571 0.0005 -27.3762  -6.3381   True\n",
            "   No2    No3  27.3571    0.0  16.8381  37.8762   True\n",
            "   No2    No4   4.6429 0.6473  -5.8762  15.1619  False\n",
            "   No3    No4 -22.7143    0.0 -33.2333 -12.1953   True\n",
            "------------------------------------------------------\n"
          ]
        }
      ],
      "source": [
        "from statsmodels.stats.multicomp import pairwise_tukeyhsd\n",
        "import pandas as pd\n",
        "\n",
        "# Данные\n",
        "data = {\n",
        "    \"No1\": [151, 135, 137, 118, 132, 135, 131, 121, 137, 140, 152, 133, 151, 132],\n",
        "    \"No2\": [108, 123, 145, 103, 110, 124, 116, 108, 104, 130, 106, 105, 114, 108],\n",
        "    \"No3\": [140, 152, 149, 132, 124, 146, 156, 137, 124, 145, 147, 139, 157, 139],\n",
        "    \"No4\": [127, 135, 110, 116, 119, 123, 102, 121, 118, 120, 114, 134, 121, 109],\n",
        "}\n",
        "\n",
        "# Проведение ANOVA\n",
        "anova_result = stats.f_oneway(data[\"No1\"], data[\"No2\"], data[\"No3\"], data[\"No4\"])\n",
        "\n",
        "# Тест Тьюки (если ANOVA значима)\n",
        "if anova_result.pvalue < 0.05:\n",
        "    print('Нельзя отклонить нулевую гипотезу. Средние массы хотя бы в одной группе различаются.')\n",
        "\n",
        "    # Подготовка данных для теста Тьюки\n",
        "    df = pd.DataFrame({\n",
        "        \"mass\": sum(data.values(), []),\n",
        "        \"group\": [\"No1\"] * len(data[\"No1\"]) +\n",
        "                [\"No2\"] * len(data[\"No2\"]) +\n",
        "                [\"No3\"] * len(data[\"No3\"]) +\n",
        "                [\"No4\"] * len(data[\"No4\"])\n",
        "    })\n",
        "\n",
        "    tukey_result = pairwise_tukeyhsd(df['mass'], df['group'], alpha=0.05)\n",
        "    tukey_result.summary()\n",
        "else:\n",
        "    print('Нулевая гипотеза не может быть отклонена. Средние массы тигров не зависят от типа корма (средние массы равны).')\n",
        "    tukey_result = None\n",
        "\n",
        "print(anova_result.statistic, anova_result.pvalue, tukey_result)\n"
      ]
    },
    {
      "cell_type": "markdown",
      "id": "2e2b26c8-37a6-41dc-82c5-20e35e44aee0",
      "metadata": {
        "id": "2e2b26c8-37a6-41dc-82c5-20e35e44aee0"
      },
      "source": [
        "Задание 12 (про белок)"
      ]
    },
    {
      "cell_type": "code",
      "execution_count": 25,
      "id": "f86f1f46-31d1-4529-a3b7-a196dc2a3048",
      "metadata": {
        "id": "f86f1f46-31d1-4529-a3b7-a196dc2a3048",
        "colab": {
          "base_uri": "https://localhost:8080/"
        },
        "outputId": "a707929d-b80b-4c50-a7cd-bd316185d8ec"
      },
      "outputs": [
        {
          "output_type": "stream",
          "name": "stdout",
          "text": [
            "                          sum_sq    df          F        PR(>F)\n",
            "C(Возраст)             2427075.8   2.0  42.377707  1.333903e-08\n",
            "C(Выводок)              202705.2   1.0   7.078626  1.368668e-02\n",
            "C(Возраст):C(Выводок)    50688.2   2.0   0.885036  4.257428e-01\n",
            "Residual                687269.6  24.0        NaN           NaN \n",
            "\n",
            "Нельзя отклонить нулевую гипотезу. Средние массы зависят от возраста\n",
            "Нельзя отклонить нулевую гипотезу. Средние массы зависят от выводака\n",
            "Нулевая гипотеза не может быть отклонена. Средние массы не зависят от возраста и выводака в совокупности\n"
          ]
        }
      ],
      "source": [
        "import pandas as pd\n",
        "import statsmodels.api as sm\n",
        "from statsmodels.formula.api import ols\n",
        "\n",
        "alpha = 0.05\n",
        "\n",
        "# Данные\n",
        "data = pd.DataFrame({\n",
        "    \"Масса\": [\n",
        "        440, 438, 429, 502, 602, 308, 328, 326, 326, 325,\n",
        "        892, 868, 855, 866, 932, 737, 798, 876, 810, 861,\n",
        "        1575, 849, 759, 1602, 1327, 1001, 901, 958, 1032, 883\n",
        "    ],\n",
        "    \"Возраст\": [\n",
        "        \"1 год\", \"1 год\", \"1 год\", \"1 год\", \"1 год\", \"1 год\", \"1 год\", \"1 год\", \"1 год\", \"1 год\",\n",
        "        \"2 года\", \"2 года\", \"2 года\", \"2 года\", \"2 года\", \"2 года\", \"2 года\", \"2 года\", \"2 года\", \"2 года\",\n",
        "        \"3 и более лет\", \"3 и более лет\", \"3 и более лет\", \"3 и более лет\", \"3 и более лет\",\n",
        "        \"3 и более лет\", \"3 и более лет\", \"3 и более лет\", \"3 и более лет\", \"3 и более лет\"\n",
        "    ],\n",
        "    \"Выводок\": [\n",
        "        \"Без выводка\", \"Без выводка\", \"Без выводка\", \"Без выводка\", \"Без выводка\",\n",
        "        \"С выводком\", \"С выводком\", \"С выводком\", \"С выводком\", \"С выводком\",\n",
        "        \"Без выводка\", \"Без выводка\", \"Без выводка\", \"Без выводка\", \"Без выводка\",\n",
        "        \"С выводком\", \"С выводком\", \"С выводком\", \"С выводком\", \"С выводком\",\n",
        "        \"Без выводка\", \"Без выводка\", \"Без выводка\", \"Без выводка\", \"Без выводка\",\n",
        "        \"С выводком\", \"С выводком\", \"С выводком\", \"С выводком\", \"С выводком\"\n",
        "    ]\n",
        "})\n",
        "\n",
        "# Построение модели ANOVA с использованием последовательных сумм квадратов\n",
        "model = ols('Масса ~ C(Возраст) + C(Выводок) + C(Возраст):C(Выводок)', data=data).fit()\n",
        "anova_table = sm.stats.anova_lm(model, typ=2)  # Используем тип II для последовательных сумм квадратов\n",
        "\n",
        "print(anova_table, '\\n')\n",
        "if anova_table['PR(>F)'].iloc[0] < alpha:\n",
        "    print('Нельзя отклонить нулевую гипотезу. Средние массы зависят от возраста')\n",
        "else:\n",
        "    print('Нулевая гипотеза не может быть отклонена. Средние массы не зависят от возраста')\n",
        "\n",
        "if anova_table['PR(>F)'].iloc[1] < alpha:\n",
        "    print('Нельзя отклонить нулевую гипотезу. Средние массы зависят от выводака')\n",
        "else:\n",
        "    print('Нулевая гипотеза не может быть отклонена. Средние массы не зависят от выводака')\n",
        "\n",
        "if anova_table['PR(>F)'].iloc[2] < alpha:\n",
        "    print('Нельзя отклонить нулевую гипотезу. Средние массы зависят от возраста и выводака в совокупности')\n",
        "else:\n",
        "    print('Нулевая гипотеза не может быть отклонена. Средние массы не зависят от возраста и выводака в совокупности')\n"
      ]
    },
    {
      "cell_type": "code",
      "source": [],
      "metadata": {
        "id": "SSg6lEcQR96H"
      },
      "id": "SSg6lEcQR96H",
      "execution_count": null,
      "outputs": []
    }
  ],
  "metadata": {
    "kernelspec": {
      "display_name": "Python 3 (ipykernel)",
      "language": "python",
      "name": "python3"
    },
    "language_info": {
      "codemirror_mode": {
        "name": "ipython",
        "version": 3
      },
      "file_extension": ".py",
      "mimetype": "text/x-python",
      "name": "python",
      "nbconvert_exporter": "python",
      "pygments_lexer": "ipython3",
      "version": "3.12.4"
    },
    "colab": {
      "provenance": [],
      "include_colab_link": true
    }
  },
  "nbformat": 4,
  "nbformat_minor": 5
}